{
  "cells": [
    {
      "cell_type": "markdown",
      "metadata": {
        "id": "view-in-github",
        "colab_type": "text"
      },
      "source": [
        "<a href=\"https://colab.research.google.com/github/qandeelfatima11/Job-Recommendation-System/blob/main/job_recommendation_system.ipynb\" target=\"_parent\"><img src=\"https://colab.research.google.com/assets/colab-badge.svg\" alt=\"Open In Colab\"/></a>"
      ]
    },
    {
      "cell_type": "code",
      "execution_count": null,
      "metadata": {
        "id": "esXQn6Jr0vOO"
      },
      "outputs": [],
      "source": []
    },
    {
      "cell_type": "markdown",
      "source": [
        "### This is Recommendation model which recommends jobs based upon your location"
      ],
      "metadata": {
        "id": "vw3xECfs00AQ"
      }
    },
    {
      "cell_type": "markdown",
      "metadata": {
        "id": "E2A7NP6w0vOP"
      },
      "source": [
        "# Data Aquisition"
      ]
    },
    {
      "cell_type": "code",
      "execution_count": null,
      "metadata": {
        "id": "J1soNKgL0vOW"
      },
      "outputs": [],
      "source": [
        "from selenium.webdriver.common.by import By\n",
        "from selenium.webdriver.support.ui import WebDriverWait\n",
        "from selenium.webdriver.support import expected_conditions as EC\n",
        "import pandas as pd\n",
        "from selenium import webdriver\n",
        "from time import sleep\n",
        "from selenium.webdriver.chrome.options import Options\n",
        "from selenium.webdriver import Chrome\n",
        "from selenium.webdriver.chrome.service import Service\n",
        "from selenium.webdriver.common.keys import Keys\n"
      ]
    },
    {
      "cell_type": "code",
      "execution_count": null,
      "metadata": {
        "id": "tvsTT_w60vOf",
        "outputId": "f2a0e2f3-de42-442a-f5c6-5e2e8d6ab1f2"
      },
      "outputs": [
        {
          "data": {
            "text/html": [
              "<div>\n",
              "<style scoped>\n",
              "    .dataframe tbody tr th:only-of-type {\n",
              "        vertical-align: middle;\n",
              "    }\n",
              "\n",
              "    .dataframe tbody tr th {\n",
              "        vertical-align: top;\n",
              "    }\n",
              "\n",
              "    .dataframe thead th {\n",
              "        text-align: right;\n",
              "    }\n",
              "</style>\n",
              "<table border=\"1\" class=\"dataframe\">\n",
              "  <thead>\n",
              "    <tr style=\"text-align: right;\">\n",
              "      <th></th>\n",
              "      <th>Title</th>\n",
              "      <th>CompanyName</th>\n",
              "      <th>Location</th>\n",
              "    </tr>\n",
              "  </thead>\n",
              "  <tbody>\n",
              "    <tr>\n",
              "      <th>0</th>\n",
              "      <td>Data Scientist / Strategist</td>\n",
              "      <td>Lahore, Punjab</td>\n",
              "      <td>Pakistan</td>\n",
              "    </tr>\n",
              "    <tr>\n",
              "      <th>1</th>\n",
              "      <td>Data Scientist</td>\n",
              "      <td>Leverify</td>\n",
              "      <td>Pakistan</td>\n",
              "    </tr>\n",
              "    <tr>\n",
              "      <th>2</th>\n",
              "      <td>Data Scientist</td>\n",
              "      <td>Xcentric Services4 ★</td>\n",
              "      <td>Lahore</td>\n",
              "    </tr>\n",
              "    <tr>\n",
              "      <th>3</th>\n",
              "      <td>Data Scientist/ML Engineer</td>\n",
              "      <td>Zepto Systems Limited3.7 ★</td>\n",
              "      <td>Lahore</td>\n",
              "    </tr>\n",
              "    <tr>\n",
              "      <th>4</th>\n",
              "      <td>Data Engineer</td>\n",
              "      <td>AirCod Technologies</td>\n",
              "      <td>Lahore</td>\n",
              "    </tr>\n",
              "  </tbody>\n",
              "</table>\n",
              "</div>"
            ],
            "text/plain": [
              "                         Title                 CompanyName  Location\n",
              "0  Data Scientist / Strategist              Lahore, Punjab  Pakistan\n",
              "1               Data Scientist                    Leverify  Pakistan\n",
              "2               Data Scientist        Xcentric Services4 ★    Lahore\n",
              "3   Data Scientist/ML Engineer  Zepto Systems Limited3.7 ★    Lahore\n",
              "4                Data Engineer         AirCod Technologies    Lahore"
            ]
          },
          "execution_count": 94,
          "metadata": {},
          "output_type": "execute_result"
        }
      ],
      "source": [
        "from selenium import webdriver\n",
        "import time\n",
        "from selenium.webdriver.common.keys import Keys\n",
        "\n",
        "s = Service('/usr/bin/chromedriver')\n",
        "myoptions = Options()\n",
        "myoptions.headless = True\n",
        "\n",
        "driver = Chrome(service=s, options=myoptions)\n",
        "\n",
        "driver.get('https://www.glassdoor.com/profile/login_input.htm')\n",
        "\n",
        "\n",
        "# username = driver.find_element_by_name('username')\n",
        "username = WebDriverWait(driver, 10).until(EC.presence_of_element_located((By.NAME, 'username')))\n",
        "username.send_keys('msdsf22m006@pucit.edu.pk')\n",
        "button_element = WebDriverWait(driver, 10).until(\n",
        "        EC.presence_of_element_located((By.CSS_SELECTOR, \".Button.Button\"))\n",
        "    )\n",
        "button_element.click()\n",
        "\n",
        "# password = driver.find_element_by_name('password')\n",
        "password = WebDriverWait(driver, 10).until(EC.presence_of_element_located((By.NAME, 'password')))\n",
        "password.send_keys('12345678!')\n",
        "driver.find_element(By.CLASS_NAME, 'gd-ui-button').click()\n",
        "\n",
        "time.sleep(3)\n",
        "\n",
        "# Navigate to the job search page\n",
        "\n",
        "driver.get('https://www.glassdoor.com/Job/jobs.htm')\n",
        "\n",
        "\n",
        "WebDriverWait(driver, 20).until(lambda driver: driver.execute_script(\"return document.readyState\") == \"complete\")\n",
        "search = WebDriverWait(driver, 20).until(\n",
        "    EC.element_to_be_clickable((By.ID, 'searchBar-jobTitle'))\n",
        ")\n",
        "\n",
        "search.send_keys('data scientist')\n",
        "location = driver.find_element(By.ID, 'searchBar-location')\n",
        "location.clear()\n",
        "location.send_keys('Pakistan')\n",
        "location.send_keys(Keys.ENTER)\n",
        "time.sleep(3)\n",
        "\n",
        "\n",
        "jobs = driver.find_elements(By.CLASS_NAME, 'JobCard_jobCardContainer__l0svv')\n",
        "data_list = []\n",
        "\n",
        "time.sleep(3)\n",
        "for job in jobs:\n",
        "    title = (job.find_element(By.CLASS_NAME, 'JobCard_seoLink__WdqHZ').text)\n",
        "    location = (job.find_element(By.CLASS_NAME,'JobCard_location__N_iYE').text)\n",
        "    company = (job.find_element(By.CLASS_NAME,'EmployerProfile_employerInfo__GaPbq').text)\n",
        "\n",
        "    data_dict = {\n",
        "            'Title': title,\n",
        "            'CompanyName': company,\n",
        "            'Location': location\n",
        "        }\n",
        "    data_list.append(data_dict)\n",
        "\n",
        "driver.quit()\n",
        "df = pd.DataFrame(data_list)\n",
        "df.head()"
      ]
    },
    {
      "cell_type": "code",
      "execution_count": null,
      "metadata": {
        "id": "gRRv7_GT0vOh",
        "outputId": "44a8dbcd-3289-440d-c3b5-6916b1ea128e"
      },
      "outputs": [
        {
          "data": {
            "text/html": [
              "<div>\n",
              "<style scoped>\n",
              "    .dataframe tbody tr th:only-of-type {\n",
              "        vertical-align: middle;\n",
              "    }\n",
              "\n",
              "    .dataframe tbody tr th {\n",
              "        vertical-align: top;\n",
              "    }\n",
              "\n",
              "    .dataframe thead th {\n",
              "        text-align: right;\n",
              "    }\n",
              "</style>\n",
              "<table border=\"1\" class=\"dataframe\">\n",
              "  <thead>\n",
              "    <tr style=\"text-align: right;\">\n",
              "      <th></th>\n",
              "      <th>Title</th>\n",
              "      <th>CompanyName</th>\n",
              "      <th>Location</th>\n",
              "    </tr>\n",
              "  </thead>\n",
              "  <tbody>\n",
              "    <tr>\n",
              "      <th>0</th>\n",
              "      <td>Data Scientist / Strategist</td>\n",
              "      <td>Lahore, Punjab</td>\n",
              "      <td>Pakistan</td>\n",
              "    </tr>\n",
              "    <tr>\n",
              "      <th>1</th>\n",
              "      <td>Data Scientist</td>\n",
              "      <td>Leverify</td>\n",
              "      <td>Pakistan</td>\n",
              "    </tr>\n",
              "    <tr>\n",
              "      <th>2</th>\n",
              "      <td>Data Scientist</td>\n",
              "      <td>Xcentric Services4 ★</td>\n",
              "      <td>Lahore</td>\n",
              "    </tr>\n",
              "    <tr>\n",
              "      <th>3</th>\n",
              "      <td>Data Scientist/ML Engineer</td>\n",
              "      <td>Zepto Systems Limited3.7 ★</td>\n",
              "      <td>Lahore</td>\n",
              "    </tr>\n",
              "    <tr>\n",
              "      <th>4</th>\n",
              "      <td>Data Engineer</td>\n",
              "      <td>AirCod Technologies</td>\n",
              "      <td>Lahore</td>\n",
              "    </tr>\n",
              "    <tr>\n",
              "      <th>5</th>\n",
              "      <td>Senior Data Scientist</td>\n",
              "      <td>HR Force International</td>\n",
              "      <td>Lahore</td>\n",
              "    </tr>\n",
              "    <tr>\n",
              "      <th>6</th>\n",
              "      <td>AI/ML Expert</td>\n",
              "      <td>Punch Digital Agency3.7 ★</td>\n",
              "      <td>Lahore</td>\n",
              "    </tr>\n",
              "    <tr>\n",
              "      <th>7</th>\n",
              "      <td>Senior AI Engineer</td>\n",
              "      <td>Tekhqs</td>\n",
              "      <td>Lahore</td>\n",
              "    </tr>\n",
              "    <tr>\n",
              "      <th>8</th>\n",
              "      <td>Senior Data Scientist I</td>\n",
              "      <td>DevGate Consultancy</td>\n",
              "      <td>Islamabad</td>\n",
              "    </tr>\n",
              "    <tr>\n",
              "      <th>9</th>\n",
              "      <td>ML ops Intern</td>\n",
              "      <td>AxcelerateAI</td>\n",
              "      <td>Lahore</td>\n",
              "    </tr>\n",
              "    <tr>\n",
              "      <th>10</th>\n",
              "      <td>Senior Data Scientist</td>\n",
              "      <td>A1TechReach</td>\n",
              "      <td>Lahore</td>\n",
              "    </tr>\n",
              "    <tr>\n",
              "      <th>11</th>\n",
              "      <td>Sr.Data Scientist</td>\n",
              "      <td>NielsenIQ3.9 ★</td>\n",
              "      <td>Lahore</td>\n",
              "    </tr>\n",
              "    <tr>\n",
              "      <th>12</th>\n",
              "      <td>Senior Data Scientist</td>\n",
              "      <td>Afiniti3.7 ★</td>\n",
              "      <td>Karāchi</td>\n",
              "    </tr>\n",
              "    <tr>\n",
              "      <th>13</th>\n",
              "      <td>AI / ML Engineer</td>\n",
              "      <td>Centrox AI</td>\n",
              "      <td>Islamabad</td>\n",
              "    </tr>\n",
              "    <tr>\n",
              "      <th>14</th>\n",
              "      <td>Python Developer ML</td>\n",
              "      <td>Softtik Technologies</td>\n",
              "      <td>Lahore</td>\n",
              "    </tr>\n",
              "    <tr>\n",
              "      <th>15</th>\n",
              "      <td>Data Scraping Specialist/Internship</td>\n",
              "      <td>telelinkz.com</td>\n",
              "      <td>Lahore</td>\n",
              "    </tr>\n",
              "    <tr>\n",
              "      <th>16</th>\n",
              "      <td>Data Scientist (Manufacturing Industry)</td>\n",
              "      <td>Human Resource Serices Pvt Ltd (HRSPL)</td>\n",
              "      <td>Lahore</td>\n",
              "    </tr>\n",
              "    <tr>\n",
              "      <th>17</th>\n",
              "      <td>Research Analyst</td>\n",
              "      <td>Research and Development Solutions (RADS)</td>\n",
              "      <td>Islamabad</td>\n",
              "    </tr>\n",
              "    <tr>\n",
              "      <th>18</th>\n",
              "      <td>Database Analyst</td>\n",
              "      <td>MTBC3.5 ★</td>\n",
              "      <td>Rāwalpindi</td>\n",
              "    </tr>\n",
              "    <tr>\n",
              "      <th>19</th>\n",
              "      <td>Data Scientist (Proactive Pipeline)</td>\n",
              "      <td>Jazz Telecom4.4 ★</td>\n",
              "      <td>Islamabad</td>\n",
              "    </tr>\n",
              "  </tbody>\n",
              "</table>\n",
              "</div>"
            ],
            "text/plain": [
              "                                      Title  \\\n",
              "0               Data Scientist / Strategist   \n",
              "1                            Data Scientist   \n",
              "2                            Data Scientist   \n",
              "3                Data Scientist/ML Engineer   \n",
              "4                             Data Engineer   \n",
              "5                     Senior Data Scientist   \n",
              "6                              AI/ML Expert   \n",
              "7                        Senior AI Engineer   \n",
              "8                   Senior Data Scientist I   \n",
              "9                             ML ops Intern   \n",
              "10                    Senior Data Scientist   \n",
              "11                        Sr.Data Scientist   \n",
              "12                    Senior Data Scientist   \n",
              "13                         AI / ML Engineer   \n",
              "14                      Python Developer ML   \n",
              "15      Data Scraping Specialist/Internship   \n",
              "16  Data Scientist (Manufacturing Industry)   \n",
              "17                         Research Analyst   \n",
              "18                         Database Analyst   \n",
              "19      Data Scientist (Proactive Pipeline)   \n",
              "\n",
              "                                  CompanyName    Location  \n",
              "0                              Lahore, Punjab    Pakistan  \n",
              "1                                    Leverify    Pakistan  \n",
              "2                        Xcentric Services4 ★      Lahore  \n",
              "3                  Zepto Systems Limited3.7 ★      Lahore  \n",
              "4                         AirCod Technologies      Lahore  \n",
              "5                      HR Force International      Lahore  \n",
              "6                   Punch Digital Agency3.7 ★      Lahore  \n",
              "7                                      Tekhqs      Lahore  \n",
              "8                         DevGate Consultancy   Islamabad  \n",
              "9                                AxcelerateAI      Lahore  \n",
              "10                                A1TechReach      Lahore  \n",
              "11                             NielsenIQ3.9 ★      Lahore  \n",
              "12                               Afiniti3.7 ★     Karāchi  \n",
              "13                                 Centrox AI   Islamabad  \n",
              "14                       Softtik Technologies      Lahore  \n",
              "15                              telelinkz.com      Lahore  \n",
              "16     Human Resource Serices Pvt Ltd (HRSPL)      Lahore  \n",
              "17  Research and Development Solutions (RADS)   Islamabad  \n",
              "18                                  MTBC3.5 ★  Rāwalpindi  \n",
              "19                          Jazz Telecom4.4 ★   Islamabad  "
            ]
          },
          "execution_count": 95,
          "metadata": {},
          "output_type": "execute_result"
        }
      ],
      "source": [
        "df.head(20)"
      ]
    },
    {
      "cell_type": "markdown",
      "metadata": {
        "id": "j7m96wjK0vOi"
      },
      "source": [
        "# PreProcessig"
      ]
    },
    {
      "cell_type": "code",
      "execution_count": null,
      "metadata": {
        "id": "jY1NBn7u0vOi",
        "outputId": "93580896-d1d1-430e-c698-66b7e94c111a"
      },
      "outputs": [
        {
          "data": {
            "text/html": [
              "<div>\n",
              "<style scoped>\n",
              "    .dataframe tbody tr th:only-of-type {\n",
              "        vertical-align: middle;\n",
              "    }\n",
              "\n",
              "    .dataframe tbody tr th {\n",
              "        vertical-align: top;\n",
              "    }\n",
              "\n",
              "    .dataframe thead th {\n",
              "        text-align: right;\n",
              "    }\n",
              "</style>\n",
              "<table border=\"1\" class=\"dataframe\">\n",
              "  <thead>\n",
              "    <tr style=\"text-align: right;\">\n",
              "      <th></th>\n",
              "      <th>Title</th>\n",
              "      <th>CompanyName</th>\n",
              "      <th>Location</th>\n",
              "    </tr>\n",
              "  </thead>\n",
              "  <tbody>\n",
              "    <tr>\n",
              "      <th>count</th>\n",
              "      <td>30</td>\n",
              "      <td>30</td>\n",
              "      <td>30</td>\n",
              "    </tr>\n",
              "    <tr>\n",
              "      <th>unique</th>\n",
              "      <td>25</td>\n",
              "      <td>29</td>\n",
              "      <td>5</td>\n",
              "    </tr>\n",
              "    <tr>\n",
              "      <th>top</th>\n",
              "      <td>Senior Data Scientist</td>\n",
              "      <td>Leverify</td>\n",
              "      <td>Lahore</td>\n",
              "    </tr>\n",
              "    <tr>\n",
              "      <th>freq</th>\n",
              "      <td>4</td>\n",
              "      <td>2</td>\n",
              "      <td>15</td>\n",
              "    </tr>\n",
              "  </tbody>\n",
              "</table>\n",
              "</div>"
            ],
            "text/plain": [
              "                        Title CompanyName Location\n",
              "count                      30          30       30\n",
              "unique                     25          29        5\n",
              "top     Senior Data Scientist    Leverify   Lahore\n",
              "freq                        4           2       15"
            ]
          },
          "execution_count": 96,
          "metadata": {},
          "output_type": "execute_result"
        }
      ],
      "source": [
        "df.describe()"
      ]
    },
    {
      "cell_type": "code",
      "execution_count": null,
      "metadata": {
        "id": "k4-rsyKY0vOj",
        "outputId": "2eb6153b-8ea7-4f7d-ff65-e6e31867d7f5"
      },
      "outputs": [
        {
          "data": {
            "text/plain": [
              "Title          0\n",
              "CompanyName    0\n",
              "Location       0\n",
              "dtype: int64"
            ]
          },
          "execution_count": 97,
          "metadata": {},
          "output_type": "execute_result"
        }
      ],
      "source": [
        "df.isna().sum()"
      ]
    },
    {
      "cell_type": "markdown",
      "metadata": {
        "id": "vlHHpd_z0vOk"
      },
      "source": [
        "Converting CompanyName into two columns"
      ]
    },
    {
      "cell_type": "code",
      "execution_count": null,
      "metadata": {
        "id": "OAi_DsN30vOk",
        "outputId": "ac84890e-54c8-47e7-dc0e-3a7b576a4163"
      },
      "outputs": [
        {
          "data": {
            "text/html": [
              "<div>\n",
              "<style scoped>\n",
              "    .dataframe tbody tr th:only-of-type {\n",
              "        vertical-align: middle;\n",
              "    }\n",
              "\n",
              "    .dataframe tbody tr th {\n",
              "        vertical-align: top;\n",
              "    }\n",
              "\n",
              "    .dataframe thead th {\n",
              "        text-align: right;\n",
              "    }\n",
              "</style>\n",
              "<table border=\"1\" class=\"dataframe\">\n",
              "  <thead>\n",
              "    <tr style=\"text-align: right;\">\n",
              "      <th></th>\n",
              "      <th>Title</th>\n",
              "      <th>Location</th>\n",
              "      <th>Rating</th>\n",
              "      <th>Company_name</th>\n",
              "    </tr>\n",
              "  </thead>\n",
              "  <tbody>\n",
              "    <tr>\n",
              "      <th>0</th>\n",
              "      <td>Data Scientist / Strategist</td>\n",
              "      <td>Pakistan</td>\n",
              "      <td>NaN</td>\n",
              "      <td>Lahore, Punjab</td>\n",
              "    </tr>\n",
              "    <tr>\n",
              "      <th>1</th>\n",
              "      <td>Data Scientist</td>\n",
              "      <td>Pakistan</td>\n",
              "      <td>NaN</td>\n",
              "      <td>Leverify</td>\n",
              "    </tr>\n",
              "    <tr>\n",
              "      <th>2</th>\n",
              "      <td>Data Scientist</td>\n",
              "      <td>Lahore</td>\n",
              "      <td>4.0</td>\n",
              "      <td>Xcentric Services</td>\n",
              "    </tr>\n",
              "    <tr>\n",
              "      <th>3</th>\n",
              "      <td>Data Scientist/ML Engineer</td>\n",
              "      <td>Lahore</td>\n",
              "      <td>3.7</td>\n",
              "      <td>Zepto Systems Limited</td>\n",
              "    </tr>\n",
              "    <tr>\n",
              "      <th>4</th>\n",
              "      <td>Data Engineer</td>\n",
              "      <td>Lahore</td>\n",
              "      <td>NaN</td>\n",
              "      <td>AirCod Technologies</td>\n",
              "    </tr>\n",
              "  </tbody>\n",
              "</table>\n",
              "</div>"
            ],
            "text/plain": [
              "                         Title  Location  Rating           Company_name\n",
              "0  Data Scientist / Strategist  Pakistan     NaN         Lahore, Punjab\n",
              "1               Data Scientist  Pakistan     NaN               Leverify\n",
              "2               Data Scientist    Lahore     4.0      Xcentric Services\n",
              "3   Data Scientist/ML Engineer    Lahore     3.7  Zepto Systems Limited\n",
              "4                Data Engineer    Lahore     NaN    AirCod Technologies"
            ]
          },
          "execution_count": 98,
          "metadata": {},
          "output_type": "execute_result"
        }
      ],
      "source": [
        "import re\n",
        "\n",
        "def extract_rating(text):\n",
        "    rating = re.search(r'(\\d+\\.*\\d*)\\s*★', text)\n",
        "    if rating:\n",
        "        return float(rating.group(1))\n",
        "    else:\n",
        "        return None\n",
        "\n",
        "#create a new 'rating' column\n",
        "df['Rating'] = df['CompanyName'].apply(lambda x: extract_rating(x))\n",
        "\n",
        "#extract company name\n",
        "def extract_company(text):\n",
        "    return re.sub(r'\\d+\\.*\\d*\\s*★', '', text).strip()\n",
        "\n",
        "#create a new 'company_name' column\n",
        "df['Company_name'] = df['CompanyName'].apply(lambda x: extract_company(x))\n",
        "\n",
        "# Drop original column\n",
        "df.drop(columns=['CompanyName'], inplace=True)\n",
        "\n",
        "df.head()\n"
      ]
    },
    {
      "cell_type": "code",
      "execution_count": null,
      "metadata": {
        "id": "DDCtM2Fp0vO5",
        "outputId": "e561a25e-b52b-44d1-9c38-14349df57282"
      },
      "outputs": [
        {
          "data": {
            "text/plain": [
              "Title            0\n",
              "Location         0\n",
              "Rating          20\n",
              "Company_name     0\n",
              "dtype: int64"
            ]
          },
          "execution_count": 99,
          "metadata": {},
          "output_type": "execute_result"
        }
      ],
      "source": [
        "df.isna().sum()"
      ]
    },
    {
      "cell_type": "code",
      "execution_count": null,
      "metadata": {
        "id": "E5G_r9xa0vO6",
        "outputId": "153fd46c-d2e4-4253-b58d-9f3b97fddec0"
      },
      "outputs": [
        {
          "data": {
            "text/plain": [
              "'Lahore'"
            ]
          },
          "execution_count": 100,
          "metadata": {},
          "output_type": "execute_result"
        }
      ],
      "source": [
        "most_common_location = df['Location'].mode()[0]\n",
        "most_common_location"
      ]
    },
    {
      "cell_type": "markdown",
      "metadata": {
        "id": "jHc7vJMu0vO7"
      },
      "source": [
        "Replacing location with 'Pakistan'"
      ]
    },
    {
      "cell_type": "code",
      "execution_count": null,
      "metadata": {
        "id": "g-wNHmDf0vO7",
        "outputId": "120c776b-c00b-46f1-e872-6a2005040e86"
      },
      "outputs": [
        {
          "data": {
            "text/html": [
              "<div>\n",
              "<style scoped>\n",
              "    .dataframe tbody tr th:only-of-type {\n",
              "        vertical-align: middle;\n",
              "    }\n",
              "\n",
              "    .dataframe tbody tr th {\n",
              "        vertical-align: top;\n",
              "    }\n",
              "\n",
              "    .dataframe thead th {\n",
              "        text-align: right;\n",
              "    }\n",
              "</style>\n",
              "<table border=\"1\" class=\"dataframe\">\n",
              "  <thead>\n",
              "    <tr style=\"text-align: right;\">\n",
              "      <th></th>\n",
              "      <th>Title</th>\n",
              "      <th>Location</th>\n",
              "      <th>Rating</th>\n",
              "      <th>Company_name</th>\n",
              "    </tr>\n",
              "  </thead>\n",
              "  <tbody>\n",
              "    <tr>\n",
              "      <th>0</th>\n",
              "      <td>Data Scientist / Strategist</td>\n",
              "      <td>Pakistan</td>\n",
              "      <td>NaN</td>\n",
              "      <td>Lahore, Punjab</td>\n",
              "    </tr>\n",
              "    <tr>\n",
              "      <th>1</th>\n",
              "      <td>Data Scientist</td>\n",
              "      <td>Pakistan</td>\n",
              "      <td>NaN</td>\n",
              "      <td>Leverify</td>\n",
              "    </tr>\n",
              "    <tr>\n",
              "      <th>2</th>\n",
              "      <td>Data Scientist</td>\n",
              "      <td>Lahore</td>\n",
              "      <td>4.0</td>\n",
              "      <td>Xcentric Services</td>\n",
              "    </tr>\n",
              "    <tr>\n",
              "      <th>3</th>\n",
              "      <td>Data Scientist/ML Engineer</td>\n",
              "      <td>Lahore</td>\n",
              "      <td>3.7</td>\n",
              "      <td>Zepto Systems Limited</td>\n",
              "    </tr>\n",
              "    <tr>\n",
              "      <th>4</th>\n",
              "      <td>Data Engineer</td>\n",
              "      <td>Lahore</td>\n",
              "      <td>NaN</td>\n",
              "      <td>AirCod Technologies</td>\n",
              "    </tr>\n",
              "    <tr>\n",
              "      <th>5</th>\n",
              "      <td>Senior Data Scientist</td>\n",
              "      <td>Lahore</td>\n",
              "      <td>NaN</td>\n",
              "      <td>HR Force International</td>\n",
              "    </tr>\n",
              "    <tr>\n",
              "      <th>6</th>\n",
              "      <td>AI/ML Expert</td>\n",
              "      <td>Lahore</td>\n",
              "      <td>3.7</td>\n",
              "      <td>Punch Digital Agency</td>\n",
              "    </tr>\n",
              "    <tr>\n",
              "      <th>7</th>\n",
              "      <td>Senior AI Engineer</td>\n",
              "      <td>Lahore</td>\n",
              "      <td>NaN</td>\n",
              "      <td>Tekhqs</td>\n",
              "    </tr>\n",
              "    <tr>\n",
              "      <th>8</th>\n",
              "      <td>Senior Data Scientist I</td>\n",
              "      <td>Islamabad</td>\n",
              "      <td>NaN</td>\n",
              "      <td>DevGate Consultancy</td>\n",
              "    </tr>\n",
              "    <tr>\n",
              "      <th>9</th>\n",
              "      <td>ML ops Intern</td>\n",
              "      <td>Lahore</td>\n",
              "      <td>NaN</td>\n",
              "      <td>AxcelerateAI</td>\n",
              "    </tr>\n",
              "  </tbody>\n",
              "</table>\n",
              "</div>"
            ],
            "text/plain": [
              "                         Title   Location  Rating            Company_name\n",
              "0  Data Scientist / Strategist   Pakistan     NaN          Lahore, Punjab\n",
              "1               Data Scientist   Pakistan     NaN                Leverify\n",
              "2               Data Scientist     Lahore     4.0       Xcentric Services\n",
              "3   Data Scientist/ML Engineer     Lahore     3.7   Zepto Systems Limited\n",
              "4                Data Engineer     Lahore     NaN     AirCod Technologies\n",
              "5        Senior Data Scientist     Lahore     NaN  HR Force International\n",
              "6                 AI/ML Expert     Lahore     3.7    Punch Digital Agency\n",
              "7           Senior AI Engineer     Lahore     NaN                  Tekhqs\n",
              "8      Senior Data Scientist I  Islamabad     NaN     DevGate Consultancy\n",
              "9                ML ops Intern     Lahore     NaN            AxcelerateAI"
            ]
          },
          "execution_count": 101,
          "metadata": {},
          "output_type": "execute_result"
        }
      ],
      "source": [
        "df['Location'] = df['Location'].replace('', 'Pakistan')\n",
        "df.head(10)"
      ]
    },
    {
      "cell_type": "markdown",
      "metadata": {
        "id": "X5GWxB5i0vO8"
      },
      "source": [
        "replacing no rating with 0"
      ]
    },
    {
      "cell_type": "code",
      "execution_count": null,
      "metadata": {
        "id": "tQj_J93c0vO9",
        "outputId": "f4f3442b-0eec-4879-cb24-35fa4e5a1c4b"
      },
      "outputs": [
        {
          "data": {
            "text/html": [
              "<div>\n",
              "<style scoped>\n",
              "    .dataframe tbody tr th:only-of-type {\n",
              "        vertical-align: middle;\n",
              "    }\n",
              "\n",
              "    .dataframe tbody tr th {\n",
              "        vertical-align: top;\n",
              "    }\n",
              "\n",
              "    .dataframe thead th {\n",
              "        text-align: right;\n",
              "    }\n",
              "</style>\n",
              "<table border=\"1\" class=\"dataframe\">\n",
              "  <thead>\n",
              "    <tr style=\"text-align: right;\">\n",
              "      <th></th>\n",
              "      <th>Title</th>\n",
              "      <th>Location</th>\n",
              "      <th>Rating</th>\n",
              "      <th>Company_name</th>\n",
              "    </tr>\n",
              "  </thead>\n",
              "  <tbody>\n",
              "    <tr>\n",
              "      <th>0</th>\n",
              "      <td>Data Scientist / Strategist</td>\n",
              "      <td>Pakistan</td>\n",
              "      <td>0.0</td>\n",
              "      <td>Lahore, Punjab</td>\n",
              "    </tr>\n",
              "    <tr>\n",
              "      <th>1</th>\n",
              "      <td>Data Scientist</td>\n",
              "      <td>Pakistan</td>\n",
              "      <td>0.0</td>\n",
              "      <td>Leverify</td>\n",
              "    </tr>\n",
              "    <tr>\n",
              "      <th>2</th>\n",
              "      <td>Data Scientist</td>\n",
              "      <td>Lahore</td>\n",
              "      <td>4.0</td>\n",
              "      <td>Xcentric Services</td>\n",
              "    </tr>\n",
              "    <tr>\n",
              "      <th>3</th>\n",
              "      <td>Data Scientist/ML Engineer</td>\n",
              "      <td>Lahore</td>\n",
              "      <td>3.7</td>\n",
              "      <td>Zepto Systems Limited</td>\n",
              "    </tr>\n",
              "    <tr>\n",
              "      <th>4</th>\n",
              "      <td>Data Engineer</td>\n",
              "      <td>Lahore</td>\n",
              "      <td>0.0</td>\n",
              "      <td>AirCod Technologies</td>\n",
              "    </tr>\n",
              "  </tbody>\n",
              "</table>\n",
              "</div>"
            ],
            "text/plain": [
              "                         Title  Location  Rating           Company_name\n",
              "0  Data Scientist / Strategist  Pakistan     0.0         Lahore, Punjab\n",
              "1               Data Scientist  Pakistan     0.0               Leverify\n",
              "2               Data Scientist    Lahore     4.0      Xcentric Services\n",
              "3   Data Scientist/ML Engineer    Lahore     3.7  Zepto Systems Limited\n",
              "4                Data Engineer    Lahore     0.0    AirCod Technologies"
            ]
          },
          "execution_count": 103,
          "metadata": {},
          "output_type": "execute_result"
        }
      ],
      "source": [
        "df['Rating'].fillna(0.0, inplace=True)\n",
        "df.head()"
      ]
    },
    {
      "cell_type": "code",
      "execution_count": null,
      "metadata": {
        "id": "aaN3Qu0y0vO9",
        "outputId": "2f73399e-dc54-432c-a232-16d6ac280c9c"
      },
      "outputs": [
        {
          "name": "stdout",
          "output_type": "stream",
          "text": [
            "Top recommendations for 'data scientist':\n",
            "['machine learning engineer (cloud practitioner)', 'data scientist / strategist', 'senior data scientist', 'sr.data scientist', 'senior data scientist', 'senior data scientist', 'data scientist', 'senior data scientist i', 'data scientist', 'senior data scientist']\n"
          ]
        }
      ],
      "source": [
        "from sklearn.feature_extraction.text import TfidfVectorizer\n",
        "from sklearn.metrics.pairwise import linear_kernel\n",
        "\n",
        "# Combine location, company name, and title into a single feature for vectorization\n",
        "df['Features'] = df['Location'] + ' ' + df['Company_name'] + ' ' + df['Title']\n",
        "\n",
        "# Use TF-IDF vectorizer to convert text features into numerical vectors\n",
        "tfidf_vectorizer = TfidfVectorizer()\n",
        "tfidf_matrix = tfidf_vectorizer.fit_transform(df['Features'])\n",
        "\n",
        "# Calculate cosine similarity between items (jobs) based on their features\n",
        "cosine_sim = linear_kernel(tfidf_matrix, tfidf_matrix)\n",
        "\n",
        "def get_top_n_recommendations(title, cosine_sim, df, n=5):\n",
        "    # Convert input title to lowercase\n",
        "    title = title.lower()\n",
        "\n",
        "    # Convert all job titles in the DataFrame to lowercase for comparison\n",
        "    df['Title'] = df['Title'].apply(lambda x: x.lower())\n",
        "\n",
        "    # Check if the input title exists in the DataFrame\n",
        "    if title not in df['Title'].values:\n",
        "        print(f\"Job title '{title}' not found.\")\n",
        "        return None\n",
        "\n",
        "    # Get the index of the input title in the DataFrame\n",
        "    idx = df[df['Title'] == title].index[0]\n",
        "    sim_scores = list(enumerate(cosine_sim[idx]))\n",
        "    sim_scores = sorted(sim_scores, key=lambda x: x[1], reverse=True)\n",
        "    sim_scores = sim_scores[1:n+1]\n",
        "    job_titles = [df['Title'].iloc[i[0]] for i in sim_scores]\n",
        "    return job_titles\n",
        "\n",
        "job_title = 'data engineer'\n",
        "top_recommendations = get_top_n_recommendations(job_title, cosine_sim, df, n=10)\n",
        "\n",
        "if top_recommendations is not None:\n",
        "    print(f\"Top recommendations for '{job_title}':\")\n",
        "    print(top_recommendations)\n",
        "else:\n",
        "    print(\"No recommendations available.\")\n"
      ]
    },
    {
      "cell_type": "code",
      "execution_count": null,
      "metadata": {
        "id": "UeEnnu_20vO-"
      },
      "outputs": [],
      "source": [
        "import pickle\n",
        "\n",
        "# Pickle the variable and save it to a file\n",
        "with open('top_recommendations.pkl', 'wb') as file:\n",
        "    pickle.dump(top_recommendations, file)\n"
      ]
    }
  ],
  "metadata": {
    "kernelspec": {
      "display_name": "Python 3",
      "language": "python",
      "name": "python3"
    },
    "language_info": {
      "codemirror_mode": {
        "name": "ipython",
        "version": 3
      },
      "file_extension": ".py",
      "mimetype": "text/x-python",
      "name": "python",
      "nbconvert_exporter": "python",
      "pygments_lexer": "ipython3",
      "version": "3.10.12"
    },
    "orig_nbformat": 4,
    "colab": {
      "provenance": [],
      "include_colab_link": true
    }
  },
  "nbformat": 4,
  "nbformat_minor": 0
}