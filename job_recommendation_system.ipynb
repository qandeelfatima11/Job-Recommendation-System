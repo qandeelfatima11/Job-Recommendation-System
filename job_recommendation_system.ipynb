{
  "cells": [
    {
      "cell_type": "markdown",
      "metadata": {
        "id": "view-in-github",
        "colab_type": "text"
      },
      "source": [
        "<a href=\"https://colab.research.google.com/github/qandeelfatima11/Job-Recommendation-System/blob/main/job_recommendation_system.ipynb\" target=\"_parent\"><img src=\"https://colab.research.google.com/assets/colab-badge.svg\" alt=\"Open In Colab\"/></a>"
      ]
    },
    {
      "cell_type": "code",
      "execution_count": null,
      "metadata": {
        "id": "FVzRrvX_W21c"
      },
      "outputs": [],
      "source": []
    },
    {
      "cell_type": "markdown",
      "metadata": {
        "id": "occgwtqQW21d"
      },
      "source": [
        "# Data Aquisition"
      ]
    },
    {
      "cell_type": "code",
      "execution_count": null,
      "metadata": {
        "id": "p6PVAiBCW21f"
      },
      "outputs": [],
      "source": [
        "from selenium.webdriver.common.by import By\n",
        "from selenium.webdriver.support.ui import WebDriverWait\n",
        "from selenium.webdriver.support import expected_conditions as EC\n",
        "import pandas as pd\n",
        "from selenium import webdriver\n",
        "from time import sleep\n",
        "from selenium.webdriver.chrome.options import Options\n",
        "from selenium.webdriver import Chrome\n",
        "from selenium.webdriver.chrome.service import Service\n",
        "from selenium.webdriver.common.keys import Keys\n"
      ]
    },
    {
      "cell_type": "code",
      "execution_count": null,
      "metadata": {
        "id": "hJlaDp8WW21h",
        "outputId": "2b27bcaf-23da-4c4e-d554-d1444065899a"
      },
      "outputs": [
        {
          "data": {
            "text/html": [
              "<div>\n",
              "<style scoped>\n",
              "    .dataframe tbody tr th:only-of-type {\n",
              "        vertical-align: middle;\n",
              "    }\n",
              "\n",
              "    .dataframe tbody tr th {\n",
              "        vertical-align: top;\n",
              "    }\n",
              "\n",
              "    .dataframe thead th {\n",
              "        text-align: right;\n",
              "    }\n",
              "</style>\n",
              "<table border=\"1\" class=\"dataframe\">\n",
              "  <thead>\n",
              "    <tr style=\"text-align: right;\">\n",
              "      <th></th>\n",
              "      <th>Title</th>\n",
              "      <th>CompanyName</th>\n",
              "      <th>Location</th>\n",
              "    </tr>\n",
              "  </thead>\n",
              "  <tbody>\n",
              "    <tr>\n",
              "      <th>0</th>\n",
              "      <td>Data Scientist / Strategist</td>\n",
              "      <td>Lahore, Punjab</td>\n",
              "      <td>Pakistan</td>\n",
              "    </tr>\n",
              "    <tr>\n",
              "      <th>1</th>\n",
              "      <td>Data Scientist</td>\n",
              "      <td>Leverify</td>\n",
              "      <td>Pakistan</td>\n",
              "    </tr>\n",
              "    <tr>\n",
              "      <th>2</th>\n",
              "      <td>Data Scientist</td>\n",
              "      <td>Xcentric Services4 ★</td>\n",
              "      <td>Lahore</td>\n",
              "    </tr>\n",
              "    <tr>\n",
              "      <th>3</th>\n",
              "      <td>Data Scientist/ML Engineer</td>\n",
              "      <td>Zepto Systems Limited3.7 ★</td>\n",
              "      <td>Lahore</td>\n",
              "    </tr>\n",
              "    <tr>\n",
              "      <th>4</th>\n",
              "      <td>Data Engineer</td>\n",
              "      <td>AirCod Technologies</td>\n",
              "      <td>Lahore</td>\n",
              "    </tr>\n",
              "  </tbody>\n",
              "</table>\n",
              "</div>"
            ],
            "text/plain": [
              "                         Title                 CompanyName  Location\n",
              "0  Data Scientist / Strategist              Lahore, Punjab  Pakistan\n",
              "1               Data Scientist                    Leverify  Pakistan\n",
              "2               Data Scientist        Xcentric Services4 ★    Lahore\n",
              "3   Data Scientist/ML Engineer  Zepto Systems Limited3.7 ★    Lahore\n",
              "4                Data Engineer         AirCod Technologies    Lahore"
            ]
          },
          "execution_count": 94,
          "metadata": {},
          "output_type": "execute_result"
        }
      ],
      "source": [
        "from selenium import webdriver\n",
        "import time\n",
        "from selenium.webdriver.common.keys import Keys\n",
        "\n",
        "s = Service('/usr/bin/chromedriver')\n",
        "myoptions = Options()\n",
        "myoptions.headless = True\n",
        "\n",
        "driver = Chrome(service=s, options=myoptions)\n",
        "\n",
        "driver.get('https://www.glassdoor.com/profile/login_input.htm')\n",
        "\n",
        "\n",
        "# username = driver.find_element_by_name('username')\n",
        "username = WebDriverWait(driver, 10).until(EC.presence_of_element_located((By.NAME, 'username')))\n",
        "username.send_keys('**********')\n",
        "button_element = WebDriverWait(driver, 10).until(\n",
        "        EC.presence_of_element_located((By.CSS_SELECTOR, \".Button.Button\"))\n",
        "    )\n",
        "button_element.click()\n",
        "\n",
        "# password = driver.find_element_by_name('password')\n",
        "password = WebDriverWait(driver, 10).until(EC.presence_of_element_located((By.NAME, 'password')))\n",
        "password.send_keys('*******')\n",
        "driver.find_element(By.CLASS_NAME, 'gd-ui-button').click()\n",
        "\n",
        "time.sleep(3)\n",
        "\n",
        "# Navigate to the job search page\n",
        "\n",
        "driver.get('https://www.glassdoor.com/Job/jobs.htm')\n",
        "\n",
        "\n",
        "WebDriverWait(driver, 20).until(lambda driver: driver.execute_script(\"return document.readyState\") == \"complete\")\n",
        "search = WebDriverWait(driver, 20).until(\n",
        "    EC.element_to_be_clickable((By.ID, 'searchBar-jobTitle'))\n",
        ")\n",
        "\n",
        "search.send_keys('data scientist')\n",
        "location = driver.find_element(By.ID, 'searchBar-location')\n",
        "location.clear()\n",
        "location.send_keys('Pakistan')\n",
        "# driver.find_element(By.ID, 'HeroSearchButton').click()\n",
        "# time.sleep(3)\n",
        "location.send_keys(Keys.ENTER)\n",
        "time.sleep(3)\n",
        "\n",
        "\n",
        "jobs = driver.find_elements(By.CLASS_NAME, 'JobCard_jobCardContainer__l0svv')\n",
        "data_list = []\n",
        "\n",
        "time.sleep(3)\n",
        "for job in jobs:\n",
        "    title = (job.find_element(By.CLASS_NAME, 'JobCard_seoLink__WdqHZ').text)\n",
        "    location = (job.find_element(By.CLASS_NAME,'JobCard_location__N_iYE').text)\n",
        "    company = (job.find_element(By.CLASS_NAME,'EmployerProfile_employerInfo__GaPbq').text)\n",
        "\n",
        "    data_dict = {\n",
        "            'Title': title,\n",
        "            'CompanyName': company,\n",
        "            'Location': location\n",
        "        }\n",
        "    data_list.append(data_dict)\n",
        "\n",
        "driver.quit()\n",
        "df = pd.DataFrame(data_list)\n",
        "df.head()"
      ]
    },
    {
      "cell_type": "code",
      "execution_count": null,
      "metadata": {
        "id": "nY-u5JrCW21j",
        "outputId": "366f615b-d831-4d5d-89b6-d8d9a7ffe109"
      },
      "outputs": [
        {
          "data": {
            "text/html": [
              "<div>\n",
              "<style scoped>\n",
              "    .dataframe tbody tr th:only-of-type {\n",
              "        vertical-align: middle;\n",
              "    }\n",
              "\n",
              "    .dataframe tbody tr th {\n",
              "        vertical-align: top;\n",
              "    }\n",
              "\n",
              "    .dataframe thead th {\n",
              "        text-align: right;\n",
              "    }\n",
              "</style>\n",
              "<table border=\"1\" class=\"dataframe\">\n",
              "  <thead>\n",
              "    <tr style=\"text-align: right;\">\n",
              "      <th></th>\n",
              "      <th>Title</th>\n",
              "      <th>CompanyName</th>\n",
              "      <th>Location</th>\n",
              "    </tr>\n",
              "  </thead>\n",
              "  <tbody>\n",
              "    <tr>\n",
              "      <th>0</th>\n",
              "      <td>Data Scientist / Strategist</td>\n",
              "      <td>Lahore, Punjab</td>\n",
              "      <td>Pakistan</td>\n",
              "    </tr>\n",
              "    <tr>\n",
              "      <th>1</th>\n",
              "      <td>Data Scientist</td>\n",
              "      <td>Leverify</td>\n",
              "      <td>Pakistan</td>\n",
              "    </tr>\n",
              "    <tr>\n",
              "      <th>2</th>\n",
              "      <td>Data Scientist</td>\n",
              "      <td>Xcentric Services4 ★</td>\n",
              "      <td>Lahore</td>\n",
              "    </tr>\n",
              "    <tr>\n",
              "      <th>3</th>\n",
              "      <td>Data Scientist/ML Engineer</td>\n",
              "      <td>Zepto Systems Limited3.7 ★</td>\n",
              "      <td>Lahore</td>\n",
              "    </tr>\n",
              "    <tr>\n",
              "      <th>4</th>\n",
              "      <td>Data Engineer</td>\n",
              "      <td>AirCod Technologies</td>\n",
              "      <td>Lahore</td>\n",
              "    </tr>\n",
              "    <tr>\n",
              "      <th>5</th>\n",
              "      <td>Senior Data Scientist</td>\n",
              "      <td>HR Force International</td>\n",
              "      <td>Lahore</td>\n",
              "    </tr>\n",
              "    <tr>\n",
              "      <th>6</th>\n",
              "      <td>AI/ML Expert</td>\n",
              "      <td>Punch Digital Agency3.7 ★</td>\n",
              "      <td>Lahore</td>\n",
              "    </tr>\n",
              "    <tr>\n",
              "      <th>7</th>\n",
              "      <td>Senior AI Engineer</td>\n",
              "      <td>Tekhqs</td>\n",
              "      <td>Lahore</td>\n",
              "    </tr>\n",
              "    <tr>\n",
              "      <th>8</th>\n",
              "      <td>Senior Data Scientist I</td>\n",
              "      <td>DevGate Consultancy</td>\n",
              "      <td>Islamabad</td>\n",
              "    </tr>\n",
              "    <tr>\n",
              "      <th>9</th>\n",
              "      <td>ML ops Intern</td>\n",
              "      <td>AxcelerateAI</td>\n",
              "      <td>Lahore</td>\n",
              "    </tr>\n",
              "    <tr>\n",
              "      <th>10</th>\n",
              "      <td>Senior Data Scientist</td>\n",
              "      <td>A1TechReach</td>\n",
              "      <td>Lahore</td>\n",
              "    </tr>\n",
              "    <tr>\n",
              "      <th>11</th>\n",
              "      <td>Sr.Data Scientist</td>\n",
              "      <td>NielsenIQ3.9 ★</td>\n",
              "      <td>Lahore</td>\n",
              "    </tr>\n",
              "    <tr>\n",
              "      <th>12</th>\n",
              "      <td>Senior Data Scientist</td>\n",
              "      <td>Afiniti3.7 ★</td>\n",
              "      <td>Karāchi</td>\n",
              "    </tr>\n",
              "    <tr>\n",
              "      <th>13</th>\n",
              "      <td>AI / ML Engineer</td>\n",
              "      <td>Centrox AI</td>\n",
              "      <td>Islamabad</td>\n",
              "    </tr>\n",
              "    <tr>\n",
              "      <th>14</th>\n",
              "      <td>Python Developer ML</td>\n",
              "      <td>Softtik Technologies</td>\n",
              "      <td>Lahore</td>\n",
              "    </tr>\n",
              "    <tr>\n",
              "      <th>15</th>\n",
              "      <td>Data Scraping Specialist/Internship</td>\n",
              "      <td>telelinkz.com</td>\n",
              "      <td>Lahore</td>\n",
              "    </tr>\n",
              "    <tr>\n",
              "      <th>16</th>\n",
              "      <td>Data Scientist (Manufacturing Industry)</td>\n",
              "      <td>Human Resource Serices Pvt Ltd (HRSPL)</td>\n",
              "      <td>Lahore</td>\n",
              "    </tr>\n",
              "    <tr>\n",
              "      <th>17</th>\n",
              "      <td>Research Analyst</td>\n",
              "      <td>Research and Development Solutions (RADS)</td>\n",
              "      <td>Islamabad</td>\n",
              "    </tr>\n",
              "    <tr>\n",
              "      <th>18</th>\n",
              "      <td>Database Analyst</td>\n",
              "      <td>MTBC3.5 ★</td>\n",
              "      <td>Rāwalpindi</td>\n",
              "    </tr>\n",
              "    <tr>\n",
              "      <th>19</th>\n",
              "      <td>Data Scientist (Proactive Pipeline)</td>\n",
              "      <td>Jazz Telecom4.4 ★</td>\n",
              "      <td>Islamabad</td>\n",
              "    </tr>\n",
              "  </tbody>\n",
              "</table>\n",
              "</div>"
            ],
            "text/plain": [
              "                                      Title  \\\n",
              "0               Data Scientist / Strategist   \n",
              "1                            Data Scientist   \n",
              "2                            Data Scientist   \n",
              "3                Data Scientist/ML Engineer   \n",
              "4                             Data Engineer   \n",
              "5                     Senior Data Scientist   \n",
              "6                              AI/ML Expert   \n",
              "7                        Senior AI Engineer   \n",
              "8                   Senior Data Scientist I   \n",
              "9                             ML ops Intern   \n",
              "10                    Senior Data Scientist   \n",
              "11                        Sr.Data Scientist   \n",
              "12                    Senior Data Scientist   \n",
              "13                         AI / ML Engineer   \n",
              "14                      Python Developer ML   \n",
              "15      Data Scraping Specialist/Internship   \n",
              "16  Data Scientist (Manufacturing Industry)   \n",
              "17                         Research Analyst   \n",
              "18                         Database Analyst   \n",
              "19      Data Scientist (Proactive Pipeline)   \n",
              "\n",
              "                                  CompanyName    Location  \n",
              "0                              Lahore, Punjab    Pakistan  \n",
              "1                                    Leverify    Pakistan  \n",
              "2                        Xcentric Services4 ★      Lahore  \n",
              "3                  Zepto Systems Limited3.7 ★      Lahore  \n",
              "4                         AirCod Technologies      Lahore  \n",
              "5                      HR Force International      Lahore  \n",
              "6                   Punch Digital Agency3.7 ★      Lahore  \n",
              "7                                      Tekhqs      Lahore  \n",
              "8                         DevGate Consultancy   Islamabad  \n",
              "9                                AxcelerateAI      Lahore  \n",
              "10                                A1TechReach      Lahore  \n",
              "11                             NielsenIQ3.9 ★      Lahore  \n",
              "12                               Afiniti3.7 ★     Karāchi  \n",
              "13                                 Centrox AI   Islamabad  \n",
              "14                       Softtik Technologies      Lahore  \n",
              "15                              telelinkz.com      Lahore  \n",
              "16     Human Resource Serices Pvt Ltd (HRSPL)      Lahore  \n",
              "17  Research and Development Solutions (RADS)   Islamabad  \n",
              "18                                  MTBC3.5 ★  Rāwalpindi  \n",
              "19                          Jazz Telecom4.4 ★   Islamabad  "
            ]
          },
          "execution_count": 95,
          "metadata": {},
          "output_type": "execute_result"
        }
      ],
      "source": [
        "df.head(20)"
      ]
    },
    {
      "cell_type": "markdown",
      "metadata": {
        "id": "Mj52CF33W21j"
      },
      "source": [
        "# PreProcessig"
      ]
    },
    {
      "cell_type": "code",
      "execution_count": null,
      "metadata": {
        "id": "O2ocHTthW21k",
        "outputId": "1f67f032-6dfe-4c44-d20e-8b6a12d287d1"
      },
      "outputs": [
        {
          "data": {
            "text/html": [
              "<div>\n",
              "<style scoped>\n",
              "    .dataframe tbody tr th:only-of-type {\n",
              "        vertical-align: middle;\n",
              "    }\n",
              "\n",
              "    .dataframe tbody tr th {\n",
              "        vertical-align: top;\n",
              "    }\n",
              "\n",
              "    .dataframe thead th {\n",
              "        text-align: right;\n",
              "    }\n",
              "</style>\n",
              "<table border=\"1\" class=\"dataframe\">\n",
              "  <thead>\n",
              "    <tr style=\"text-align: right;\">\n",
              "      <th></th>\n",
              "      <th>Title</th>\n",
              "      <th>CompanyName</th>\n",
              "      <th>Location</th>\n",
              "    </tr>\n",
              "  </thead>\n",
              "  <tbody>\n",
              "    <tr>\n",
              "      <th>count</th>\n",
              "      <td>30</td>\n",
              "      <td>30</td>\n",
              "      <td>30</td>\n",
              "    </tr>\n",
              "    <tr>\n",
              "      <th>unique</th>\n",
              "      <td>25</td>\n",
              "      <td>29</td>\n",
              "      <td>5</td>\n",
              "    </tr>\n",
              "    <tr>\n",
              "      <th>top</th>\n",
              "      <td>Senior Data Scientist</td>\n",
              "      <td>Leverify</td>\n",
              "      <td>Lahore</td>\n",
              "    </tr>\n",
              "    <tr>\n",
              "      <th>freq</th>\n",
              "      <td>4</td>\n",
              "      <td>2</td>\n",
              "      <td>15</td>\n",
              "    </tr>\n",
              "  </tbody>\n",
              "</table>\n",
              "</div>"
            ],
            "text/plain": [
              "                        Title CompanyName Location\n",
              "count                      30          30       30\n",
              "unique                     25          29        5\n",
              "top     Senior Data Scientist    Leverify   Lahore\n",
              "freq                        4           2       15"
            ]
          },
          "execution_count": 96,
          "metadata": {},
          "output_type": "execute_result"
        }
      ],
      "source": [
        "df.describe()"
      ]
    },
    {
      "cell_type": "code",
      "execution_count": null,
      "metadata": {
        "id": "F0i7UiGPW21k",
        "outputId": "673c50ab-53ed-47ad-bcc6-c13f908f6054"
      },
      "outputs": [
        {
          "data": {
            "text/plain": [
              "Title          0\n",
              "CompanyName    0\n",
              "Location       0\n",
              "dtype: int64"
            ]
          },
          "execution_count": 97,
          "metadata": {},
          "output_type": "execute_result"
        }
      ],
      "source": [
        "df.isna().sum()"
      ]
    },
    {
      "cell_type": "markdown",
      "metadata": {
        "id": "DKSFPqq0W21k"
      },
      "source": [
        "Converting CompanyName into two columns"
      ]
    },
    {
      "cell_type": "code",
      "execution_count": null,
      "metadata": {
        "id": "udzzjYBnW21l",
        "outputId": "e20e0219-0ec0-4551-a49b-d846761966f6"
      },
      "outputs": [
        {
          "data": {
            "text/html": [
              "<div>\n",
              "<style scoped>\n",
              "    .dataframe tbody tr th:only-of-type {\n",
              "        vertical-align: middle;\n",
              "    }\n",
              "\n",
              "    .dataframe tbody tr th {\n",
              "        vertical-align: top;\n",
              "    }\n",
              "\n",
              "    .dataframe thead th {\n",
              "        text-align: right;\n",
              "    }\n",
              "</style>\n",
              "<table border=\"1\" class=\"dataframe\">\n",
              "  <thead>\n",
              "    <tr style=\"text-align: right;\">\n",
              "      <th></th>\n",
              "      <th>Title</th>\n",
              "      <th>Location</th>\n",
              "      <th>Rating</th>\n",
              "      <th>Company_name</th>\n",
              "    </tr>\n",
              "  </thead>\n",
              "  <tbody>\n",
              "    <tr>\n",
              "      <th>0</th>\n",
              "      <td>Data Scientist / Strategist</td>\n",
              "      <td>Pakistan</td>\n",
              "      <td>NaN</td>\n",
              "      <td>Lahore, Punjab</td>\n",
              "    </tr>\n",
              "    <tr>\n",
              "      <th>1</th>\n",
              "      <td>Data Scientist</td>\n",
              "      <td>Pakistan</td>\n",
              "      <td>NaN</td>\n",
              "      <td>Leverify</td>\n",
              "    </tr>\n",
              "    <tr>\n",
              "      <th>2</th>\n",
              "      <td>Data Scientist</td>\n",
              "      <td>Lahore</td>\n",
              "      <td>4.0</td>\n",
              "      <td>Xcentric Services</td>\n",
              "    </tr>\n",
              "    <tr>\n",
              "      <th>3</th>\n",
              "      <td>Data Scientist/ML Engineer</td>\n",
              "      <td>Lahore</td>\n",
              "      <td>3.7</td>\n",
              "      <td>Zepto Systems Limited</td>\n",
              "    </tr>\n",
              "    <tr>\n",
              "      <th>4</th>\n",
              "      <td>Data Engineer</td>\n",
              "      <td>Lahore</td>\n",
              "      <td>NaN</td>\n",
              "      <td>AirCod Technologies</td>\n",
              "    </tr>\n",
              "  </tbody>\n",
              "</table>\n",
              "</div>"
            ],
            "text/plain": [
              "                         Title  Location  Rating           Company_name\n",
              "0  Data Scientist / Strategist  Pakistan     NaN         Lahore, Punjab\n",
              "1               Data Scientist  Pakistan     NaN               Leverify\n",
              "2               Data Scientist    Lahore     4.0      Xcentric Services\n",
              "3   Data Scientist/ML Engineer    Lahore     3.7  Zepto Systems Limited\n",
              "4                Data Engineer    Lahore     NaN    AirCod Technologies"
            ]
          },
          "execution_count": 98,
          "metadata": {},
          "output_type": "execute_result"
        }
      ],
      "source": [
        "import re\n",
        "\n",
        "def extract_rating(text):\n",
        "    rating = re.search(r'(\\d+\\.*\\d*)\\s*★', text)\n",
        "    if rating:\n",
        "        return float(rating.group(1))\n",
        "    else:\n",
        "        return None\n",
        "\n",
        "#create a new 'rating' column\n",
        "df['Rating'] = df['CompanyName'].apply(lambda x: extract_rating(x))\n",
        "\n",
        "#extract company name\n",
        "def extract_company(text):\n",
        "    return re.sub(r'\\d+\\.*\\d*\\s*★', '', text).strip()\n",
        "\n",
        "#create a new 'company_name' column\n",
        "df['Company_name'] = df['CompanyName'].apply(lambda x: extract_company(x))\n",
        "\n",
        "# Drop original column\n",
        "df.drop(columns=['CompanyName'], inplace=True)\n",
        "\n",
        "df.head()\n"
      ]
    },
    {
      "cell_type": "code",
      "execution_count": null,
      "metadata": {
        "id": "wmRPdn8jW21m",
        "outputId": "9544c183-e37a-4d0f-a093-a9836ecba67b"
      },
      "outputs": [
        {
          "data": {
            "text/plain": [
              "Title            0\n",
              "Location         0\n",
              "Rating          20\n",
              "Company_name     0\n",
              "dtype: int64"
            ]
          },
          "execution_count": 99,
          "metadata": {},
          "output_type": "execute_result"
        }
      ],
      "source": [
        "df.isna().sum()"
      ]
    },
    {
      "cell_type": "code",
      "execution_count": null,
      "metadata": {
        "id": "vVtaLxXSW21m",
        "outputId": "5074b758-5752-460e-bb0b-63a1c101bf5c"
      },
      "outputs": [
        {
          "data": {
            "text/plain": [
              "'Lahore'"
            ]
          },
          "execution_count": 100,
          "metadata": {},
          "output_type": "execute_result"
        }
      ],
      "source": [
        "most_common_location = df['Location'].mode()[0]\n",
        "most_common_location"
      ]
    },
    {
      "cell_type": "markdown",
      "metadata": {
        "id": "QONnSkHkW21n"
      },
      "source": [
        "Replacing location with 'Pakistan'"
      ]
    },
    {
      "cell_type": "code",
      "execution_count": null,
      "metadata": {
        "id": "FV98xVCDW21n",
        "outputId": "a097e1db-a958-4374-e8e8-51d44d81bf57"
      },
      "outputs": [
        {
          "data": {
            "text/html": [
              "<div>\n",
              "<style scoped>\n",
              "    .dataframe tbody tr th:only-of-type {\n",
              "        vertical-align: middle;\n",
              "    }\n",
              "\n",
              "    .dataframe tbody tr th {\n",
              "        vertical-align: top;\n",
              "    }\n",
              "\n",
              "    .dataframe thead th {\n",
              "        text-align: right;\n",
              "    }\n",
              "</style>\n",
              "<table border=\"1\" class=\"dataframe\">\n",
              "  <thead>\n",
              "    <tr style=\"text-align: right;\">\n",
              "      <th></th>\n",
              "      <th>Title</th>\n",
              "      <th>Location</th>\n",
              "      <th>Rating</th>\n",
              "      <th>Company_name</th>\n",
              "    </tr>\n",
              "  </thead>\n",
              "  <tbody>\n",
              "    <tr>\n",
              "      <th>0</th>\n",
              "      <td>Data Scientist / Strategist</td>\n",
              "      <td>Pakistan</td>\n",
              "      <td>NaN</td>\n",
              "      <td>Lahore, Punjab</td>\n",
              "    </tr>\n",
              "    <tr>\n",
              "      <th>1</th>\n",
              "      <td>Data Scientist</td>\n",
              "      <td>Pakistan</td>\n",
              "      <td>NaN</td>\n",
              "      <td>Leverify</td>\n",
              "    </tr>\n",
              "    <tr>\n",
              "      <th>2</th>\n",
              "      <td>Data Scientist</td>\n",
              "      <td>Lahore</td>\n",
              "      <td>4.0</td>\n",
              "      <td>Xcentric Services</td>\n",
              "    </tr>\n",
              "    <tr>\n",
              "      <th>3</th>\n",
              "      <td>Data Scientist/ML Engineer</td>\n",
              "      <td>Lahore</td>\n",
              "      <td>3.7</td>\n",
              "      <td>Zepto Systems Limited</td>\n",
              "    </tr>\n",
              "    <tr>\n",
              "      <th>4</th>\n",
              "      <td>Data Engineer</td>\n",
              "      <td>Lahore</td>\n",
              "      <td>NaN</td>\n",
              "      <td>AirCod Technologies</td>\n",
              "    </tr>\n",
              "    <tr>\n",
              "      <th>5</th>\n",
              "      <td>Senior Data Scientist</td>\n",
              "      <td>Lahore</td>\n",
              "      <td>NaN</td>\n",
              "      <td>HR Force International</td>\n",
              "    </tr>\n",
              "    <tr>\n",
              "      <th>6</th>\n",
              "      <td>AI/ML Expert</td>\n",
              "      <td>Lahore</td>\n",
              "      <td>3.7</td>\n",
              "      <td>Punch Digital Agency</td>\n",
              "    </tr>\n",
              "    <tr>\n",
              "      <th>7</th>\n",
              "      <td>Senior AI Engineer</td>\n",
              "      <td>Lahore</td>\n",
              "      <td>NaN</td>\n",
              "      <td>Tekhqs</td>\n",
              "    </tr>\n",
              "    <tr>\n",
              "      <th>8</th>\n",
              "      <td>Senior Data Scientist I</td>\n",
              "      <td>Islamabad</td>\n",
              "      <td>NaN</td>\n",
              "      <td>DevGate Consultancy</td>\n",
              "    </tr>\n",
              "    <tr>\n",
              "      <th>9</th>\n",
              "      <td>ML ops Intern</td>\n",
              "      <td>Lahore</td>\n",
              "      <td>NaN</td>\n",
              "      <td>AxcelerateAI</td>\n",
              "    </tr>\n",
              "  </tbody>\n",
              "</table>\n",
              "</div>"
            ],
            "text/plain": [
              "                         Title   Location  Rating            Company_name\n",
              "0  Data Scientist / Strategist   Pakistan     NaN          Lahore, Punjab\n",
              "1               Data Scientist   Pakistan     NaN                Leverify\n",
              "2               Data Scientist     Lahore     4.0       Xcentric Services\n",
              "3   Data Scientist/ML Engineer     Lahore     3.7   Zepto Systems Limited\n",
              "4                Data Engineer     Lahore     NaN     AirCod Technologies\n",
              "5        Senior Data Scientist     Lahore     NaN  HR Force International\n",
              "6                 AI/ML Expert     Lahore     3.7    Punch Digital Agency\n",
              "7           Senior AI Engineer     Lahore     NaN                  Tekhqs\n",
              "8      Senior Data Scientist I  Islamabad     NaN     DevGate Consultancy\n",
              "9                ML ops Intern     Lahore     NaN            AxcelerateAI"
            ]
          },
          "execution_count": 101,
          "metadata": {},
          "output_type": "execute_result"
        }
      ],
      "source": [
        "df['Location'] = df['Location'].replace('', 'Pakistan')\n",
        "df.head(10)"
      ]
    },
    {
      "cell_type": "markdown",
      "metadata": {
        "id": "PbqCTrz2W21n"
      },
      "source": [
        "replacing no rating with 0"
      ]
    },
    {
      "cell_type": "code",
      "execution_count": null,
      "metadata": {
        "id": "ZO0jdJlyW21n",
        "outputId": "6177c535-84be-4063-f041-ce50def58cd4"
      },
      "outputs": [
        {
          "data": {
            "text/html": [
              "<div>\n",
              "<style scoped>\n",
              "    .dataframe tbody tr th:only-of-type {\n",
              "        vertical-align: middle;\n",
              "    }\n",
              "\n",
              "    .dataframe tbody tr th {\n",
              "        vertical-align: top;\n",
              "    }\n",
              "\n",
              "    .dataframe thead th {\n",
              "        text-align: right;\n",
              "    }\n",
              "</style>\n",
              "<table border=\"1\" class=\"dataframe\">\n",
              "  <thead>\n",
              "    <tr style=\"text-align: right;\">\n",
              "      <th></th>\n",
              "      <th>Title</th>\n",
              "      <th>Location</th>\n",
              "      <th>Rating</th>\n",
              "      <th>Company_name</th>\n",
              "    </tr>\n",
              "  </thead>\n",
              "  <tbody>\n",
              "    <tr>\n",
              "      <th>0</th>\n",
              "      <td>Data Scientist / Strategist</td>\n",
              "      <td>Pakistan</td>\n",
              "      <td>0.0</td>\n",
              "      <td>Lahore, Punjab</td>\n",
              "    </tr>\n",
              "    <tr>\n",
              "      <th>1</th>\n",
              "      <td>Data Scientist</td>\n",
              "      <td>Pakistan</td>\n",
              "      <td>0.0</td>\n",
              "      <td>Leverify</td>\n",
              "    </tr>\n",
              "    <tr>\n",
              "      <th>2</th>\n",
              "      <td>Data Scientist</td>\n",
              "      <td>Lahore</td>\n",
              "      <td>4.0</td>\n",
              "      <td>Xcentric Services</td>\n",
              "    </tr>\n",
              "    <tr>\n",
              "      <th>3</th>\n",
              "      <td>Data Scientist/ML Engineer</td>\n",
              "      <td>Lahore</td>\n",
              "      <td>3.7</td>\n",
              "      <td>Zepto Systems Limited</td>\n",
              "    </tr>\n",
              "    <tr>\n",
              "      <th>4</th>\n",
              "      <td>Data Engineer</td>\n",
              "      <td>Lahore</td>\n",
              "      <td>0.0</td>\n",
              "      <td>AirCod Technologies</td>\n",
              "    </tr>\n",
              "  </tbody>\n",
              "</table>\n",
              "</div>"
            ],
            "text/plain": [
              "                         Title  Location  Rating           Company_name\n",
              "0  Data Scientist / Strategist  Pakistan     0.0         Lahore, Punjab\n",
              "1               Data Scientist  Pakistan     0.0               Leverify\n",
              "2               Data Scientist    Lahore     4.0      Xcentric Services\n",
              "3   Data Scientist/ML Engineer    Lahore     3.7  Zepto Systems Limited\n",
              "4                Data Engineer    Lahore     0.0    AirCod Technologies"
            ]
          },
          "execution_count": 103,
          "metadata": {},
          "output_type": "execute_result"
        }
      ],
      "source": [
        "df['Rating'].fillna(0.0, inplace=True)\n",
        "df.head()"
      ]
    },
    {
      "cell_type": "code",
      "execution_count": null,
      "metadata": {
        "id": "h7eu6-aXW21o"
      },
      "outputs": [],
      "source": []
    }
  ],
  "metadata": {
    "kernelspec": {
      "display_name": "Python 3",
      "language": "python",
      "name": "python3"
    },
    "language_info": {
      "codemirror_mode": {
        "name": "ipython",
        "version": 3
      },
      "file_extension": ".py",
      "mimetype": "text/x-python",
      "name": "python",
      "nbconvert_exporter": "python",
      "pygments_lexer": "ipython3",
      "version": "3.10.12"
    },
    "orig_nbformat": 4,
    "colab": {
      "provenance": [],
      "include_colab_link": true
    }
  },
  "nbformat": 4,
  "nbformat_minor": 0
}